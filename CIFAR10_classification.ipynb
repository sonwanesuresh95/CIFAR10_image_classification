{
  "nbformat": 4,
  "nbformat_minor": 0,
  "metadata": {
    "colab": {
      "name": "CIFAR10_classification.ipynb",
      "provenance": []
    },
    "kernelspec": {
      "name": "python3",
      "display_name": "Python 3"
    },
    "accelerator": "GPU"
  },
  "cells": [
    {
      "cell_type": "code",
      "metadata": {
        "id": "CWurK27VwP3q"
      },
      "source": [
        "import tensorflow as tf\n",
        "from tensorflow import keras\n",
        "import numpy as np\n",
        "import matplotlib.pyplot as plt\n",
        "from tensorflow.keras.utils import to_categorical"
      ],
      "execution_count": 3,
      "outputs": []
    },
    {
      "cell_type": "code",
      "metadata": {
        "id": "8ZL5XWvVzn9j"
      },
      "source": [
        "import sys\n",
        "from matplotlib import pyplot\n",
        "from keras.datasets import cifar10\n",
        "from keras.utils import to_categorical\n",
        "from keras.models import Sequential\n",
        "from keras.layers import Conv2D\n",
        "from keras.layers import MaxPooling2D\n",
        "from keras.layers import Dense\n",
        "from keras.layers import Flatten\n",
        "from keras.layers import Dropout\n",
        "from keras.optimizers import SGD"
      ],
      "execution_count": 4,
      "outputs": []
    },
    {
      "cell_type": "code",
      "metadata": {
        "id": "yvaeCc5Uwc6G",
        "outputId": "4b4ec94a-4bef-42b3-a7e4-5402c7e23779",
        "colab": {
          "base_uri": "https://localhost:8080/",
          "height": 52
        }
      },
      "source": [
        "(X_train, y_train), (X_test, y_test) = tf.keras.datasets.cifar10.load_data()"
      ],
      "execution_count": 5,
      "outputs": [
        {
          "output_type": "stream",
          "text": [
            "Downloading data from https://www.cs.toronto.edu/~kriz/cifar-10-python.tar.gz\n",
            "170500096/170498071 [==============================] - 4s 0us/step\n"
          ],
          "name": "stdout"
        }
      ]
    },
    {
      "cell_type": "code",
      "metadata": {
        "id": "4MZW0AWAwi-s",
        "outputId": "fbd4d6df-7201-492e-e541-24af694980b6",
        "colab": {
          "base_uri": "https://localhost:8080/",
          "height": 35
        }
      },
      "source": [
        "X_train.shape, y_train.shape, X_test.shape, y_test.shape"
      ],
      "execution_count": 6,
      "outputs": [
        {
          "output_type": "execute_result",
          "data": {
            "text/plain": [
              "((50000, 32, 32, 3), (50000, 1), (10000, 32, 32, 3), (10000, 1))"
            ]
          },
          "metadata": {
            "tags": []
          },
          "execution_count": 6
        }
      ]
    },
    {
      "cell_type": "code",
      "metadata": {
        "id": "m2qVSgyMwqiU",
        "outputId": "5bd15607-5ea5-4177-a763-ef3aa7024a5d",
        "colab": {
          "base_uri": "https://localhost:8080/",
          "height": 283
        }
      },
      "source": [
        "plt.imshow(X_train[5]), y_train[5]"
      ],
      "execution_count": 7,
      "outputs": [
        {
          "output_type": "execute_result",
          "data": {
            "text/plain": [
              "(<matplotlib.image.AxesImage at 0x7f056005d6a0>, array([1], dtype=uint8))"
            ]
          },
          "metadata": {
            "tags": []
          },
          "execution_count": 7
        },
        {
          "output_type": "display_data",
          "data": {
            "image/png": "[encoded data removed]",
            "text/plain": [
              "<Figure size 432x288 with 1 Axes>"
            ]
          },
          "metadata": {
            "tags": [],
            "needs_background": "light"
          }
        }
      ]
    },
    {
      "cell_type": "code",
      "metadata": {
        "id": "vZ66Uf_Xz6pc"
      },
      "source": [
        "y_train = to_categorical(y_train)\n",
        "y_test = to_categorical(y_test)"
      ],
      "execution_count": 8,
      "outputs": []
    },
    {
      "cell_type": "code",
      "metadata": {
        "id": "pMxm3NQywy3D"
      },
      "source": [
        "X_train = X_train.astype(np.float32)/255.0\n",
        "X_test = X_test.astype(np.float32)/255.0"
      ],
      "execution_count": 9,
      "outputs": []
    },
    {
      "cell_type": "code",
      "metadata": {
        "id": "_sYbfteWzgwn"
      },
      "source": [
        "model = Sequential()\n",
        "model.add(Conv2D(32, (3, 3), activation='relu', kernel_initializer='he_uniform', padding='same', input_shape=(32, 32, 3)))\n",
        "model.add(Conv2D(32, (3, 3), activation='relu', kernel_initializer='he_uniform', padding='same'))\n",
        "model.add(MaxPooling2D((2, 2)))\n",
        "model.add(Flatten())\n",
        "model.add(Dense(128, activation='relu', kernel_initializer='he_uniform'))\n",
        "model.add(Dense(10, activation='softmax'))"
      ],
      "execution_count": 13,
      "outputs": []
    },
    {
      "cell_type": "code",
      "metadata": {
        "id": "fLPTMEJuxJps"
      },
      "source": [
        "model.compile(loss='categorical_crossentropy', optimizer='adam', metrics=['accuracy'])"
      ],
      "execution_count": 14,
      "outputs": []
    },
    {
      "cell_type": "code",
      "metadata": {
        "id": "3HOQAYnLyqhg",
        "outputId": "8665ffdf-3e50-4cfb-882f-9cc69c8028a3",
        "colab": {
          "base_uri": "https://localhost:8080/",
          "height": 191
        }
      },
      "source": [
        "model.fit(X_train,y_train, epochs=10, batch_size=64, validation_data=(X_test,y_test))"
      ],
      "execution_count": null,
      "outputs": [
        {
          "output_type": "stream",
          "text": [
            "Epoch 1/100\n",
            "782/782 [==============================] - 143s 183ms/step - loss: 1.4944 - accuracy: 0.4756 - val_loss: 1.2762 - val_accuracy: 0.5467\n",
            "Epoch 2/100\n",
            "782/782 [==============================] - 142s 182ms/step - loss: 1.0397 - accuracy: 0.6384 - val_loss: 1.0947 - val_accuracy: 0.6198\n",
            "Epoch 3/100\n",
            "782/782 [==============================] - 143s 183ms/step - loss: 0.8706 - accuracy: 0.6964 - val_loss: 0.9484 - val_accuracy: 0.6694\n",
            "Epoch 4/100\n",
            "782/782 [==============================] - 142s 182ms/step - loss: 0.7525 - accuracy: 0.7367 - val_loss: 1.0102 - val_accuracy: 0.6584\n",
            "Epoch 5/100\n",
            "748/782 [===========================>..] - ETA: 6s - loss: 0.6365 - accuracy: 0.7781"
          ],
          "name": "stdout"
        }
      ]
    },
    {
      "cell_type": "code",
      "metadata": {
        "id": "0dAWNm11zBl6"
      },
      "source": [
        "model = Sequential()\n",
        "model.add(Conv2D(32, (3, 3), activation='relu', kernel_initializer='he_uniform', padding='same', input_shape=(32, 32, 3)))\n",
        "model.add(Conv2D(32, (3, 3), activation='relu', kernel_initializer='he_uniform', padding='same'))\n",
        "model.add(MaxPooling2D((2, 2)))\n",
        "model.add(Flatten())\n",
        "model.add(Dropout(0.5))\n",
        "model.add(Dense(128, activation='relu', kernel_initializer='he_uniform'))\n",
        "model.add(Dense(10, activation='softmax'))"
      ],
      "execution_count": 17,
      "outputs": []
    },
    {
      "cell_type": "code",
      "metadata": {
        "id": "Xv3NDhQC3Wxl"
      },
      "source": [
        "model.compile(loss='categorical_crossentropy', optimizer='adam', metrics=['accuracy'])"
      ],
      "execution_count": 18,
      "outputs": []
    },
    {
      "cell_type": "code",
      "metadata": {
        "id": "EiBW2uYo3Z2F",
        "outputId": "8987146e-2cf0-4201-b7a3-063b06f03fb3",
        "colab": {
          "base_uri": "https://localhost:8080/",
          "height": 381
        }
      },
      "source": [
        "model.fit(X_train,y_train, epochs=10, batch_size=64, validation_data=(X_test,y_test))"
      ],
      "execution_count": 19,
      "outputs": [
        {
          "output_type": "stream",
          "text": [
            "Epoch 1/10\n",
            "782/782 [==============================] - 5s 7ms/step - loss: 1.5299 - accuracy: 0.4528 - val_loss: 1.1712 - val_accuracy: 0.5824\n",
            "Epoch 2/10\n",
            "782/782 [==============================] - 5s 6ms/step - loss: 1.1580 - accuracy: 0.5887 - val_loss: 1.0571 - val_accuracy: 0.6248\n",
            "Epoch 3/10\n",
            "782/782 [==============================] - 5s 6ms/step - loss: 1.0351 - accuracy: 0.6333 - val_loss: 1.0026 - val_accuracy: 0.6466\n",
            "Epoch 4/10\n",
            "782/782 [==============================] - 5s 6ms/step - loss: 0.9518 - accuracy: 0.6650 - val_loss: 0.9479 - val_accuracy: 0.6674\n",
            "Epoch 5/10\n",
            "782/782 [==============================] - 5s 6ms/step - loss: 0.8907 - accuracy: 0.6858 - val_loss: 0.9035 - val_accuracy: 0.6847\n",
            "Epoch 6/10\n",
            "782/782 [==============================] - 5s 6ms/step - loss: 0.8476 - accuracy: 0.7014 - val_loss: 0.9399 - val_accuracy: 0.6737\n",
            "Epoch 7/10\n",
            "782/782 [==============================] - 5s 6ms/step - loss: 0.7990 - accuracy: 0.7185 - val_loss: 0.8903 - val_accuracy: 0.6956\n",
            "Epoch 8/10\n",
            "782/782 [==============================] - 5s 6ms/step - loss: 0.7609 - accuracy: 0.7312 - val_loss: 0.9089 - val_accuracy: 0.6809\n",
            "Epoch 9/10\n",
            "782/782 [==============================] - 5s 6ms/step - loss: 0.7268 - accuracy: 0.7425 - val_loss: 0.8764 - val_accuracy: 0.7044\n",
            "Epoch 10/10\n",
            "782/782 [==============================] - 5s 6ms/step - loss: 0.6932 - accuracy: 0.7542 - val_loss: 0.8883 - val_accuracy: 0.6952\n"
          ],
          "name": "stdout"
        },
        {
          "output_type": "execute_result",
          "data": {
            "text/plain": [
              "<tensorflow.python.keras.callbacks.History at 0x7f8638130eb8>"
            ]
          },
          "metadata": {
            "tags": []
          },
          "execution_count": 19
        }
      ]
    },
    {
      "cell_type": "code",
      "metadata": {
        "id": "NbUjrniB3bnF"
      },
      "source": [
        "model = Sequential()\n",
        "model.add(Conv2D(32, (3, 3), activation='relu', kernel_initializer='he_uniform', padding='same', input_shape=(32, 32, 3)))\n",
        "model.add(Conv2D(32, (3, 3), activation='relu', kernel_initializer='he_uniform', padding='same'))\n",
        "model.add(MaxPooling2D((2, 2)))\n",
        "model.add(Conv2D(64, (3, 3), activation='relu', kernel_initializer='he_uniform', padding='same', input_shape=(32, 32, 3)))\n",
        "model.add(Conv2D(64, (3, 3), activation='relu', kernel_initializer='he_uniform', padding='same'))\n",
        "model.add(MaxPooling2D((2, 2)))\n",
        "model.add(Flatten())\n",
        "model.add(Dropout(0.5))\n",
        "model.add(Dense(128, activation='relu', kernel_initializer='he_uniform'))\n",
        "model.add(Dense(10, activation='softmax'))"
      ],
      "execution_count": 21,
      "outputs": []
    },
    {
      "cell_type": "code",
      "metadata": {
        "id": "ldvqccDp3yL1"
      },
      "source": [
        "model.compile(loss='categorical_crossentropy', optimizer='adam', metrics=['accuracy'])"
      ],
      "execution_count": 22,
      "outputs": []
    },
    {
      "cell_type": "code",
      "metadata": {
        "id": "0SEUhJ0O33Jp",
        "outputId": "d7edcc7d-41e3-4a61-a9c6-d83cb1dd0a61",
        "colab": {
          "base_uri": "https://localhost:8080/",
          "height": 381
        }
      },
      "source": [
        "model.fit(X_train,y_train, epochs=10, batch_size=64, validation_data=(X_test,y_test))"
      ],
      "execution_count": 23,
      "outputs": [
        {
          "output_type": "stream",
          "text": [
            "Epoch 1/10\n",
            "782/782 [==============================] - 6s 8ms/step - loss: 1.4320 - accuracy: 0.4822 - val_loss: 1.0880 - val_accuracy: 0.6188\n",
            "Epoch 2/10\n",
            "782/782 [==============================] - 6s 8ms/step - loss: 1.0207 - accuracy: 0.6411 - val_loss: 0.9054 - val_accuracy: 0.6842\n",
            "Epoch 3/10\n",
            "782/782 [==============================] - 6s 8ms/step - loss: 0.8593 - accuracy: 0.6972 - val_loss: 0.7936 - val_accuracy: 0.7229\n",
            "Epoch 4/10\n",
            "782/782 [==============================] - 6s 8ms/step - loss: 0.7602 - accuracy: 0.7302 - val_loss: 0.7778 - val_accuracy: 0.7266\n",
            "Epoch 5/10\n",
            "782/782 [==============================] - 6s 8ms/step - loss: 0.6880 - accuracy: 0.7574 - val_loss: 0.6991 - val_accuracy: 0.7567\n",
            "Epoch 6/10\n",
            "782/782 [==============================] - 6s 8ms/step - loss: 0.6215 - accuracy: 0.7812 - val_loss: 0.7071 - val_accuracy: 0.7533\n",
            "Epoch 7/10\n",
            "782/782 [==============================] - 6s 8ms/step - loss: 0.5747 - accuracy: 0.7968 - val_loss: 0.7167 - val_accuracy: 0.7528\n",
            "Epoch 8/10\n",
            "782/782 [==============================] - 6s 8ms/step - loss: 0.5276 - accuracy: 0.8124 - val_loss: 0.6706 - val_accuracy: 0.7740\n",
            "Epoch 9/10\n",
            "782/782 [==============================] - 6s 8ms/step - loss: 0.4888 - accuracy: 0.8261 - val_loss: 0.6887 - val_accuracy: 0.7742\n",
            "Epoch 10/10\n",
            "782/782 [==============================] - 6s 8ms/step - loss: 0.4570 - accuracy: 0.8392 - val_loss: 0.6609 - val_accuracy: 0.7765\n"
          ],
          "name": "stdout"
        },
        {
          "output_type": "execute_result",
          "data": {
            "text/plain": [
              "<tensorflow.python.keras.callbacks.History at 0x7f863803f160>"
            ]
          },
          "metadata": {
            "tags": []
          },
          "execution_count": 23
        }
      ]
    },
    {
      "cell_type": "code",
      "metadata": {
        "id": "R2ZqW3oK34gZ"
      },
      "source": [
        "model = Sequential()\n",
        "model.add(Conv2D(32, (3, 3), activation='relu', kernel_initializer='he_uniform', padding='same', input_shape=(32, 32, 3)))\n",
        "model.add(Conv2D(32, (3, 3), activation='relu', kernel_initializer='he_uniform', padding='same'))\n",
        "model.add(MaxPooling2D((2, 2)))\n",
        "model.add(Conv2D(64, (3, 3), activation='relu', kernel_initializer='he_uniform', padding='same', input_shape=(32, 32, 3)))\n",
        "model.add(Conv2D(64, (3, 3), activation='relu', kernel_initializer='he_uniform', padding='same'))\n",
        "model.add(MaxPooling2D((2, 2)))\n",
        "model.add(Conv2D(128, (3, 3), activation='relu', kernel_initializer='he_uniform', padding='same', input_shape=(32, 32, 3)))\n",
        "model.add(Conv2D(128, (3, 3), activation='relu', kernel_initializer='he_uniform', padding='same'))\n",
        "model.add(MaxPooling2D((2, 2)))\n",
        "model.add(Flatten())\n",
        "model.add(Dropout(0.5))\n",
        "model.add(Dense(128, activation='relu', kernel_initializer='he_uniform'))\n",
        "model.add(Dense(10, activation='softmax'))"
      ],
      "execution_count": 10,
      "outputs": []
    },
    {
      "cell_type": "code",
      "metadata": {
        "id": "fSbHWJrq4QEN"
      },
      "source": [
        "model.compile(loss='categorical_crossentropy', optimizer='adam', metrics=['accuracy'])"
      ],
      "execution_count": 11,
      "outputs": []
    },
    {
      "cell_type": "code",
      "metadata": {
        "id": "kOKXNk4E4RY1",
        "outputId": "3ed81a99-138a-4022-e47e-8ba64aaac5de",
        "colab": {
          "base_uri": "https://localhost:8080/",
          "height": 1000
        }
      },
      "source": [
        "model.fit(X_train,y_train, epochs=50, batch_size=64, validation_data=(X_test,y_test))"
      ],
      "execution_count": 12,
      "outputs": [
        {
          "output_type": "stream",
          "text": [
            "Epoch 1/50\n",
            "782/782 [==============================] - 6s 8ms/step - loss: 1.4756 - accuracy: 0.4585 - val_loss: 1.1327 - val_accuracy: 0.6049\n",
            "Epoch 2/50\n",
            "782/782 [==============================] - 6s 8ms/step - loss: 1.0171 - accuracy: 0.6378 - val_loss: 0.9967 - val_accuracy: 0.6447\n",
            "Epoch 3/50\n",
            "782/782 [==============================] - 6s 8ms/step - loss: 0.8396 - accuracy: 0.7055 - val_loss: 0.7709 - val_accuracy: 0.7413\n",
            "Epoch 4/50\n",
            "782/782 [==============================] - 6s 8ms/step - loss: 0.7228 - accuracy: 0.7459 - val_loss: 0.6912 - val_accuracy: 0.7608\n",
            "Epoch 5/50\n",
            "782/782 [==============================] - 6s 8ms/step - loss: 0.6391 - accuracy: 0.7751 - val_loss: 0.6707 - val_accuracy: 0.7683\n",
            "Epoch 6/50\n",
            "782/782 [==============================] - 6s 8ms/step - loss: 0.5742 - accuracy: 0.7981 - val_loss: 0.6378 - val_accuracy: 0.7854\n",
            "Epoch 7/50\n",
            "782/782 [==============================] - 6s 8ms/step - loss: 0.5271 - accuracy: 0.8141 - val_loss: 0.6530 - val_accuracy: 0.7769\n",
            "Epoch 8/50\n",
            "782/782 [==============================] - 6s 8ms/step - loss: 0.4849 - accuracy: 0.8294 - val_loss: 0.6187 - val_accuracy: 0.7898\n",
            "Epoch 9/50\n",
            "782/782 [==============================] - 6s 8ms/step - loss: 0.4433 - accuracy: 0.8445 - val_loss: 0.6045 - val_accuracy: 0.7996\n",
            "Epoch 10/50\n",
            "782/782 [==============================] - 6s 8ms/step - loss: 0.4180 - accuracy: 0.8516 - val_loss: 0.6062 - val_accuracy: 0.7969\n",
            "Epoch 11/50\n",
            "782/782 [==============================] - 6s 8ms/step - loss: 0.3850 - accuracy: 0.8630 - val_loss: 0.6382 - val_accuracy: 0.7898\n",
            "Epoch 12/50\n",
            "782/782 [==============================] - 6s 8ms/step - loss: 0.3577 - accuracy: 0.8726 - val_loss: 0.6219 - val_accuracy: 0.8003\n",
            "Epoch 13/50\n",
            "782/782 [==============================] - 6s 8ms/step - loss: 0.3370 - accuracy: 0.8807 - val_loss: 0.6458 - val_accuracy: 0.8011\n",
            "Epoch 14/50\n",
            "782/782 [==============================] - 6s 8ms/step - loss: 0.3273 - accuracy: 0.8843 - val_loss: 0.6588 - val_accuracy: 0.7999\n",
            "Epoch 15/50\n",
            "782/782 [==============================] - 6s 8ms/step - loss: 0.3083 - accuracy: 0.8890 - val_loss: 0.6334 - val_accuracy: 0.8047\n",
            "Epoch 16/50\n",
            "782/782 [==============================] - 6s 8ms/step - loss: 0.2873 - accuracy: 0.8972 - val_loss: 0.6435 - val_accuracy: 0.8070\n",
            "Epoch 17/50\n",
            "782/782 [==============================] - 6s 8ms/step - loss: 0.2764 - accuracy: 0.9013 - val_loss: 0.6953 - val_accuracy: 0.7957\n",
            "Epoch 18/50\n",
            "782/782 [==============================] - 6s 8ms/step - loss: 0.2747 - accuracy: 0.9034 - val_loss: 0.6279 - val_accuracy: 0.8080\n",
            "Epoch 19/50\n",
            "782/782 [==============================] - 6s 8ms/step - loss: 0.2597 - accuracy: 0.9088 - val_loss: 0.6355 - val_accuracy: 0.8113\n",
            "Epoch 20/50\n",
            "782/782 [==============================] - 6s 8ms/step - loss: 0.2487 - accuracy: 0.9119 - val_loss: 0.6873 - val_accuracy: 0.8004\n",
            "Epoch 21/50\n",
            "782/782 [==============================] - 6s 8ms/step - loss: 0.2491 - accuracy: 0.9105 - val_loss: 0.6561 - val_accuracy: 0.8088\n",
            "Epoch 22/50\n",
            "782/782 [==============================] - 6s 8ms/step - loss: 0.2360 - accuracy: 0.9161 - val_loss: 0.6861 - val_accuracy: 0.8043\n",
            "Epoch 23/50\n",
            "782/782 [==============================] - 6s 8ms/step - loss: 0.2383 - accuracy: 0.9158 - val_loss: 0.6914 - val_accuracy: 0.8014\n",
            "Epoch 24/50\n",
            "782/782 [==============================] - 6s 8ms/step - loss: 0.2256 - accuracy: 0.9196 - val_loss: 0.7005 - val_accuracy: 0.8078\n",
            "Epoch 25/50\n",
            "782/782 [==============================] - 6s 8ms/step - loss: 0.2133 - accuracy: 0.9245 - val_loss: 0.7359 - val_accuracy: 0.7992\n",
            "Epoch 26/50\n",
            "782/782 [==============================] - 6s 8ms/step - loss: 0.2220 - accuracy: 0.9212 - val_loss: 0.7614 - val_accuracy: 0.7924\n",
            "Epoch 27/50\n",
            "782/782 [==============================] - 6s 8ms/step - loss: 0.2135 - accuracy: 0.9262 - val_loss: 0.7348 - val_accuracy: 0.8006\n",
            "Epoch 28/50\n",
            "782/782 [==============================] - 6s 8ms/step - loss: 0.2118 - accuracy: 0.9257 - val_loss: 0.7307 - val_accuracy: 0.8079\n",
            "Epoch 29/50\n",
            "782/782 [==============================] - 6s 8ms/step - loss: 0.2033 - accuracy: 0.9302 - val_loss: 0.7202 - val_accuracy: 0.8095\n",
            "Epoch 30/50\n",
            "782/782 [==============================] - 6s 8ms/step - loss: 0.2032 - accuracy: 0.9292 - val_loss: 0.7265 - val_accuracy: 0.8069\n",
            "Epoch 31/50\n",
            "782/782 [==============================] - 6s 8ms/step - loss: 0.1967 - accuracy: 0.9324 - val_loss: 0.7818 - val_accuracy: 0.7966\n",
            "Epoch 32/50\n",
            "782/782 [==============================] - 6s 8ms/step - loss: 0.1893 - accuracy: 0.9350 - val_loss: 0.7332 - val_accuracy: 0.8036\n",
            "Epoch 33/50\n",
            "782/782 [==============================] - 6s 8ms/step - loss: 0.1912 - accuracy: 0.9333 - val_loss: 0.7482 - val_accuracy: 0.8070\n",
            "Epoch 34/50\n",
            "782/782 [==============================] - 6s 8ms/step - loss: 0.1839 - accuracy: 0.9365 - val_loss: 0.7964 - val_accuracy: 0.7951\n",
            "Epoch 35/50\n",
            "782/782 [==============================] - 6s 8ms/step - loss: 0.1854 - accuracy: 0.9362 - val_loss: 0.7633 - val_accuracy: 0.8039\n",
            "Epoch 36/50\n",
            "782/782 [==============================] - 6s 8ms/step - loss: 0.1773 - accuracy: 0.9387 - val_loss: 0.8500 - val_accuracy: 0.8039\n",
            "Epoch 37/50\n",
            "782/782 [==============================] - 6s 8ms/step - loss: 0.1750 - accuracy: 0.9395 - val_loss: 0.7656 - val_accuracy: 0.8114\n",
            "Epoch 38/50\n",
            "782/782 [==============================] - 6s 8ms/step - loss: 0.1765 - accuracy: 0.9399 - val_loss: 0.7353 - val_accuracy: 0.8117\n",
            "Epoch 39/50\n",
            "782/782 [==============================] - 6s 8ms/step - loss: 0.1774 - accuracy: 0.9396 - val_loss: 0.7913 - val_accuracy: 0.8006\n",
            "Epoch 40/50\n",
            "782/782 [==============================] - 6s 8ms/step - loss: 0.1766 - accuracy: 0.9400 - val_loss: 0.7952 - val_accuracy: 0.8049\n",
            "Epoch 41/50\n",
            "782/782 [==============================] - 6s 8ms/step - loss: 0.1746 - accuracy: 0.9415 - val_loss: 0.8041 - val_accuracy: 0.8108\n",
            "Epoch 42/50\n",
            "782/782 [==============================] - 6s 8ms/step - loss: 0.1658 - accuracy: 0.9432 - val_loss: 0.8164 - val_accuracy: 0.8077\n",
            "Epoch 43/50\n",
            "782/782 [==============================] - 6s 8ms/step - loss: 0.1678 - accuracy: 0.9429 - val_loss: 0.7970 - val_accuracy: 0.8085\n",
            "Epoch 44/50\n",
            "782/782 [==============================] - 6s 8ms/step - loss: 0.1713 - accuracy: 0.9425 - val_loss: 0.7859 - val_accuracy: 0.8050\n",
            "Epoch 45/50\n",
            "782/782 [==============================] - 6s 8ms/step - loss: 0.1660 - accuracy: 0.9431 - val_loss: 0.8426 - val_accuracy: 0.8070\n",
            "Epoch 46/50\n",
            "782/782 [==============================] - 6s 8ms/step - loss: 0.1633 - accuracy: 0.9448 - val_loss: 0.8331 - val_accuracy: 0.8038\n",
            "Epoch 47/50\n",
            "782/782 [==============================] - 6s 8ms/step - loss: 0.1595 - accuracy: 0.9463 - val_loss: 0.8503 - val_accuracy: 0.8025\n",
            "Epoch 48/50\n",
            "782/782 [==============================] - 6s 8ms/step - loss: 0.1564 - accuracy: 0.9466 - val_loss: 0.8553 - val_accuracy: 0.8044\n",
            "Epoch 49/50\n",
            "782/782 [==============================] - 6s 8ms/step - loss: 0.1620 - accuracy: 0.9457 - val_loss: 0.8031 - val_accuracy: 0.8103\n",
            "Epoch 50/50\n",
            "782/782 [==============================] - 6s 8ms/step - loss: 0.1559 - accuracy: 0.9462 - val_loss: 0.8555 - val_accuracy: 0.8073\n"
          ],
          "name": "stdout"
        },
        {
          "output_type": "execute_result",
          "data": {
            "text/plain": [
              "<tensorflow.python.keras.callbacks.History at 0x7f05040d3208>"
            ]
          },
          "metadata": {
            "tags": []
          },
          "execution_count": 12
        }
      ]
    },
    {
      "cell_type": "code",
      "metadata": {
        "id": "pSU_Aw604TBR"
      },
      "source": [
        ""
      ],
      "execution_count": null,
      "outputs": []
    }
  ]
}